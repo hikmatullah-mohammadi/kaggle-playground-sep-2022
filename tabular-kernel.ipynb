{
 "cells": [
  {
   "cell_type": "markdown",
   "id": "shaped-induction",
   "metadata": {},
   "source": [
    "# Welcome"
   ]
  },
  {
   "cell_type": "code",
   "execution_count": 1,
   "id": "differential-translator",
   "metadata": {},
   "outputs": [],
   "source": [
    "# import required libraries\n",
    "import pandas as pd\n",
    "import numpy as np\n",
    "import matplotlib.pyplot as plt\n",
    "import seaborn as sns"
   ]
  },
  {
   "cell_type": "code",
   "execution_count": 2,
   "id": "confused-petroleum",
   "metadata": {},
   "outputs": [
    {
     "data": {
      "text/html": [
       "<div>\n",
       "<style scoped>\n",
       "    .dataframe tbody tr th:only-of-type {\n",
       "        vertical-align: middle;\n",
       "    }\n",
       "\n",
       "    .dataframe tbody tr th {\n",
       "        vertical-align: top;\n",
       "    }\n",
       "\n",
       "    .dataframe thead th {\n",
       "        text-align: right;\n",
       "    }\n",
       "</style>\n",
       "<table border=\"1\" class=\"dataframe\">\n",
       "  <thead>\n",
       "    <tr style=\"text-align: right;\">\n",
       "      <th></th>\n",
       "      <th>date</th>\n",
       "      <th>country</th>\n",
       "      <th>store</th>\n",
       "      <th>product</th>\n",
       "      <th>num_sold</th>\n",
       "    </tr>\n",
       "    <tr>\n",
       "      <th>row_id</th>\n",
       "      <th></th>\n",
       "      <th></th>\n",
       "      <th></th>\n",
       "      <th></th>\n",
       "      <th></th>\n",
       "    </tr>\n",
       "  </thead>\n",
       "  <tbody>\n",
       "    <tr>\n",
       "      <th>0</th>\n",
       "      <td>2017-01-01</td>\n",
       "      <td>Belgium</td>\n",
       "      <td>KaggleMart</td>\n",
       "      <td>Kaggle Advanced Techniques</td>\n",
       "      <td>663</td>\n",
       "    </tr>\n",
       "    <tr>\n",
       "      <th>1</th>\n",
       "      <td>2017-01-01</td>\n",
       "      <td>Belgium</td>\n",
       "      <td>KaggleMart</td>\n",
       "      <td>Kaggle Getting Started</td>\n",
       "      <td>615</td>\n",
       "    </tr>\n",
       "    <tr>\n",
       "      <th>2</th>\n",
       "      <td>2017-01-01</td>\n",
       "      <td>Belgium</td>\n",
       "      <td>KaggleMart</td>\n",
       "      <td>Kaggle Recipe Book</td>\n",
       "      <td>480</td>\n",
       "    </tr>\n",
       "    <tr>\n",
       "      <th>3</th>\n",
       "      <td>2017-01-01</td>\n",
       "      <td>Belgium</td>\n",
       "      <td>KaggleMart</td>\n",
       "      <td>Kaggle for Kids: One Smart Goose</td>\n",
       "      <td>710</td>\n",
       "    </tr>\n",
       "    <tr>\n",
       "      <th>4</th>\n",
       "      <td>2017-01-01</td>\n",
       "      <td>Belgium</td>\n",
       "      <td>KaggleRama</td>\n",
       "      <td>Kaggle Advanced Techniques</td>\n",
       "      <td>240</td>\n",
       "    </tr>\n",
       "  </tbody>\n",
       "</table>\n",
       "</div>"
      ],
      "text/plain": [
       "              date  country       store                           product  \\\n",
       "row_id                                                                      \n",
       "0       2017-01-01  Belgium  KaggleMart        Kaggle Advanced Techniques   \n",
       "1       2017-01-01  Belgium  KaggleMart            Kaggle Getting Started   \n",
       "2       2017-01-01  Belgium  KaggleMart                Kaggle Recipe Book   \n",
       "3       2017-01-01  Belgium  KaggleMart  Kaggle for Kids: One Smart Goose   \n",
       "4       2017-01-01  Belgium  KaggleRama        Kaggle Advanced Techniques   \n",
       "\n",
       "        num_sold  \n",
       "row_id            \n",
       "0            663  \n",
       "1            615  \n",
       "2            480  \n",
       "3            710  \n",
       "4            240  "
      ]
     },
     "execution_count": 2,
     "metadata": {},
     "output_type": "execute_result"
    }
   ],
   "source": [
    "# get the dataset\n",
    "train_df = pd.read_csv('./train.csv', index_col=0)\n",
    "test_df = pd.read_csv('./test.csv', index_col=0)\n",
    "train_df.head()"
   ]
  },
  {
   "cell_type": "markdown",
   "id": "metropolitan-arrival",
   "metadata": {},
   "source": [
    "## Data Exploration"
   ]
  },
  {
   "cell_type": "code",
   "execution_count": 3,
   "id": "exciting-albert",
   "metadata": {},
   "outputs": [
    {
     "data": {
      "text/plain": [
       "(70128, 5)"
      ]
     },
     "execution_count": 3,
     "metadata": {},
     "output_type": "execute_result"
    }
   ],
   "source": [
    "# shape\n",
    "train_df.shape"
   ]
  },
  {
   "cell_type": "markdown",
   "id": "verified-nightlife",
   "metadata": {},
   "source": [
    "The dataset has **70128** observations (rows) and **5** features (columns)"
   ]
  },
  {
   "cell_type": "code",
   "execution_count": 4,
   "id": "incorporated-billion",
   "metadata": {},
   "outputs": [
    {
     "data": {
      "text/plain": [
       "date        object\n",
       "country     object\n",
       "store       object\n",
       "product     object\n",
       "num_sold     int64\n",
       "dtype: object"
      ]
     },
     "execution_count": 4,
     "metadata": {},
     "output_type": "execute_result"
    }
   ],
   "source": [
    "# data types\n",
    "train_df.dtypes"
   ]
  },
  {
   "cell_type": "code",
   "execution_count": 5,
   "id": "electoral-geometry",
   "metadata": {},
   "outputs": [
    {
     "name": "stdout",
     "output_type": "stream",
     "text": [
      "<class 'pandas.core.frame.DataFrame'>\n",
      "Int64Index: 70128 entries, 0 to 70127\n",
      "Data columns (total 5 columns):\n",
      " #   Column    Non-Null Count  Dtype \n",
      "---  ------    --------------  ----- \n",
      " 0   date      70128 non-null  object\n",
      " 1   country   70128 non-null  object\n",
      " 2   store     70128 non-null  object\n",
      " 3   product   70128 non-null  object\n",
      " 4   num_sold  70128 non-null  int64 \n",
      "dtypes: int64(1), object(4)\n",
      "memory usage: 3.2+ MB\n"
     ]
    }
   ],
   "source": [
    "# high level overview\n",
    "train_df.info()"
   ]
  },
  {
   "cell_type": "code",
   "execution_count": 6,
   "id": "global-consequence",
   "metadata": {},
   "outputs": [
    {
     "data": {
      "text/plain": [
       "count    70128.000000\n",
       "mean       194.296986\n",
       "std        126.893874\n",
       "min         19.000000\n",
       "25%         95.000000\n",
       "50%        148.000000\n",
       "75%        283.000000\n",
       "80%        315.000000\n",
       "90%        389.000000\n",
       "95%        437.000000\n",
       "98%        486.000000\n",
       "max        986.000000\n",
       "Name: num_sold, dtype: float64"
      ]
     },
     "execution_count": 6,
     "metadata": {},
     "output_type": "execute_result"
    }
   ],
   "source": [
    "train_df['num_sold'].describe(percentiles=[.25, .75, .80, .90, .95, .98])"
   ]
  },
  {
   "cell_type": "code",
   "execution_count": 7,
   "id": "neutral-addiction",
   "metadata": {},
   "outputs": [],
   "source": [
    "train_X = train_df.iloc[:, :-1]\n",
    "train_y = train_df['num_sold']"
   ]
  },
  {
   "cell_type": "code",
   "execution_count": 8,
   "id": "modular-valuable",
   "metadata": {},
   "outputs": [
    {
     "data": {
      "text/html": [
       "<div>\n",
       "<style scoped>\n",
       "    .dataframe tbody tr th:only-of-type {\n",
       "        vertical-align: middle;\n",
       "    }\n",
       "\n",
       "    .dataframe tbody tr th {\n",
       "        vertical-align: top;\n",
       "    }\n",
       "\n",
       "    .dataframe thead th {\n",
       "        text-align: right;\n",
       "    }\n",
       "</style>\n",
       "<table border=\"1\" class=\"dataframe\">\n",
       "  <thead>\n",
       "    <tr style=\"text-align: right;\">\n",
       "      <th></th>\n",
       "      <th>date</th>\n",
       "      <th>country</th>\n",
       "      <th>store</th>\n",
       "      <th>product</th>\n",
       "    </tr>\n",
       "    <tr>\n",
       "      <th>row_id</th>\n",
       "      <th></th>\n",
       "      <th></th>\n",
       "      <th></th>\n",
       "      <th></th>\n",
       "    </tr>\n",
       "  </thead>\n",
       "  <tbody>\n",
       "    <tr>\n",
       "      <th>87643</th>\n",
       "      <td>2021-12-31</td>\n",
       "      <td>Spain</td>\n",
       "      <td>KaggleMart</td>\n",
       "      <td>Kaggle for Kids: One Smart Goose</td>\n",
       "    </tr>\n",
       "    <tr>\n",
       "      <th>87644</th>\n",
       "      <td>2021-12-31</td>\n",
       "      <td>Spain</td>\n",
       "      <td>KaggleRama</td>\n",
       "      <td>Kaggle Advanced Techniques</td>\n",
       "    </tr>\n",
       "    <tr>\n",
       "      <th>87645</th>\n",
       "      <td>2021-12-31</td>\n",
       "      <td>Spain</td>\n",
       "      <td>KaggleRama</td>\n",
       "      <td>Kaggle Getting Started</td>\n",
       "    </tr>\n",
       "    <tr>\n",
       "      <th>87646</th>\n",
       "      <td>2021-12-31</td>\n",
       "      <td>Spain</td>\n",
       "      <td>KaggleRama</td>\n",
       "      <td>Kaggle Recipe Book</td>\n",
       "    </tr>\n",
       "    <tr>\n",
       "      <th>87647</th>\n",
       "      <td>2021-12-31</td>\n",
       "      <td>Spain</td>\n",
       "      <td>KaggleRama</td>\n",
       "      <td>Kaggle for Kids: One Smart Goose</td>\n",
       "    </tr>\n",
       "  </tbody>\n",
       "</table>\n",
       "</div>"
      ],
      "text/plain": [
       "              date country       store                           product\n",
       "row_id                                                                  \n",
       "87643   2021-12-31   Spain  KaggleMart  Kaggle for Kids: One Smart Goose\n",
       "87644   2021-12-31   Spain  KaggleRama        Kaggle Advanced Techniques\n",
       "87645   2021-12-31   Spain  KaggleRama            Kaggle Getting Started\n",
       "87646   2021-12-31   Spain  KaggleRama                Kaggle Recipe Book\n",
       "87647   2021-12-31   Spain  KaggleRama  Kaggle for Kids: One Smart Goose"
      ]
     },
     "execution_count": 8,
     "metadata": {},
     "output_type": "execute_result"
    }
   ],
   "source": [
    "# concatinate the test and train datasets to do some preprocessing on both\n",
    "train_test_X = train_X.append(test_df)\n",
    "train_test_X.tail()"
   ]
  },
  {
   "cell_type": "markdown",
   "id": "excess-field",
   "metadata": {},
   "source": [
    "#### Date Features"
   ]
  },
  {
   "cell_type": "code",
   "execution_count": 9,
   "id": "confidential-month",
   "metadata": {},
   "outputs": [],
   "source": [
    "# seperate the data into year, month and day\n",
    "train_test_X['year'] = train_test_X['date'].apply(lambda x: x.split('-')[0])\n",
    "train_test_X['month'] = train_test_X['date'].apply(lambda x: x.split('-')[1])\n",
    "train_test_X['day'] = train_test_X['date'].apply(lambda x: x.split('-')[2])"
   ]
  },
  {
   "cell_type": "code",
   "execution_count": 10,
   "id": "flush-practice",
   "metadata": {},
   "outputs": [
    {
     "data": {
      "text/html": [
       "<div>\n",
       "<style scoped>\n",
       "    .dataframe tbody tr th:only-of-type {\n",
       "        vertical-align: middle;\n",
       "    }\n",
       "\n",
       "    .dataframe tbody tr th {\n",
       "        vertical-align: top;\n",
       "    }\n",
       "\n",
       "    .dataframe thead th {\n",
       "        text-align: right;\n",
       "    }\n",
       "</style>\n",
       "<table border=\"1\" class=\"dataframe\">\n",
       "  <thead>\n",
       "    <tr style=\"text-align: right;\">\n",
       "      <th></th>\n",
       "      <th>country</th>\n",
       "      <th>store</th>\n",
       "      <th>product</th>\n",
       "      <th>year</th>\n",
       "      <th>month</th>\n",
       "      <th>day</th>\n",
       "    </tr>\n",
       "    <tr>\n",
       "      <th>row_id</th>\n",
       "      <th></th>\n",
       "      <th></th>\n",
       "      <th></th>\n",
       "      <th></th>\n",
       "      <th></th>\n",
       "      <th></th>\n",
       "    </tr>\n",
       "  </thead>\n",
       "  <tbody>\n",
       "    <tr>\n",
       "      <th>0</th>\n",
       "      <td>Belgium</td>\n",
       "      <td>KaggleMart</td>\n",
       "      <td>Kaggle Advanced Techniques</td>\n",
       "      <td>2017</td>\n",
       "      <td>01</td>\n",
       "      <td>01</td>\n",
       "    </tr>\n",
       "    <tr>\n",
       "      <th>1</th>\n",
       "      <td>Belgium</td>\n",
       "      <td>KaggleMart</td>\n",
       "      <td>Kaggle Getting Started</td>\n",
       "      <td>2017</td>\n",
       "      <td>01</td>\n",
       "      <td>01</td>\n",
       "    </tr>\n",
       "    <tr>\n",
       "      <th>2</th>\n",
       "      <td>Belgium</td>\n",
       "      <td>KaggleMart</td>\n",
       "      <td>Kaggle Recipe Book</td>\n",
       "      <td>2017</td>\n",
       "      <td>01</td>\n",
       "      <td>01</td>\n",
       "    </tr>\n",
       "    <tr>\n",
       "      <th>3</th>\n",
       "      <td>Belgium</td>\n",
       "      <td>KaggleMart</td>\n",
       "      <td>Kaggle for Kids: One Smart Goose</td>\n",
       "      <td>2017</td>\n",
       "      <td>01</td>\n",
       "      <td>01</td>\n",
       "    </tr>\n",
       "    <tr>\n",
       "      <th>4</th>\n",
       "      <td>Belgium</td>\n",
       "      <td>KaggleRama</td>\n",
       "      <td>Kaggle Advanced Techniques</td>\n",
       "      <td>2017</td>\n",
       "      <td>01</td>\n",
       "      <td>01</td>\n",
       "    </tr>\n",
       "  </tbody>\n",
       "</table>\n",
       "</div>"
      ],
      "text/plain": [
       "        country       store                           product  year month day\n",
       "row_id                                                                       \n",
       "0       Belgium  KaggleMart        Kaggle Advanced Techniques  2017    01  01\n",
       "1       Belgium  KaggleMart            Kaggle Getting Started  2017    01  01\n",
       "2       Belgium  KaggleMart                Kaggle Recipe Book  2017    01  01\n",
       "3       Belgium  KaggleMart  Kaggle for Kids: One Smart Goose  2017    01  01\n",
       "4       Belgium  KaggleRama        Kaggle Advanced Techniques  2017    01  01"
      ]
     },
     "execution_count": 10,
     "metadata": {},
     "output_type": "execute_result"
    }
   ],
   "source": [
    "train_test_X.drop('date', axis=1, inplace=True)\n",
    "train_test_X.head()"
   ]
  },
  {
   "cell_type": "code",
   "execution_count": 11,
   "id": "written-monitoring",
   "metadata": {},
   "outputs": [
    {
     "data": {
      "text/plain": [
       "country    object\n",
       "store      object\n",
       "product    object\n",
       "year        int32\n",
       "month       int32\n",
       "day         int32\n",
       "dtype: object"
      ]
     },
     "execution_count": 11,
     "metadata": {},
     "output_type": "execute_result"
    }
   ],
   "source": [
    "# change the data types of year, month and day\n",
    "train_test_X[['year', 'month', 'day']] = train_test_X[['year', 'month', 'day']].astype('int')\n",
    "train_test_X.dtypes"
   ]
  },
  {
   "cell_type": "code",
   "execution_count": 12,
   "id": "south-pixel",
   "metadata": {},
   "outputs": [
    {
     "data": {
      "text/html": [
       "<div>\n",
       "<style scoped>\n",
       "    .dataframe tbody tr th:only-of-type {\n",
       "        vertical-align: middle;\n",
       "    }\n",
       "\n",
       "    .dataframe tbody tr th {\n",
       "        vertical-align: top;\n",
       "    }\n",
       "\n",
       "    .dataframe thead th {\n",
       "        text-align: right;\n",
       "    }\n",
       "</style>\n",
       "<table border=\"1\" class=\"dataframe\">\n",
       "  <thead>\n",
       "    <tr style=\"text-align: right;\">\n",
       "      <th></th>\n",
       "      <th>country</th>\n",
       "      <th>store</th>\n",
       "      <th>product</th>\n",
       "      <th>year</th>\n",
       "      <th>month</th>\n",
       "      <th>day</th>\n",
       "      <th>season</th>\n",
       "    </tr>\n",
       "    <tr>\n",
       "      <th>row_id</th>\n",
       "      <th></th>\n",
       "      <th></th>\n",
       "      <th></th>\n",
       "      <th></th>\n",
       "      <th></th>\n",
       "      <th></th>\n",
       "      <th></th>\n",
       "    </tr>\n",
       "  </thead>\n",
       "  <tbody>\n",
       "    <tr>\n",
       "      <th>0</th>\n",
       "      <td>Belgium</td>\n",
       "      <td>KaggleMart</td>\n",
       "      <td>Kaggle Advanced Techniques</td>\n",
       "      <td>2017</td>\n",
       "      <td>1</td>\n",
       "      <td>1</td>\n",
       "      <td>0</td>\n",
       "    </tr>\n",
       "    <tr>\n",
       "      <th>1</th>\n",
       "      <td>Belgium</td>\n",
       "      <td>KaggleMart</td>\n",
       "      <td>Kaggle Getting Started</td>\n",
       "      <td>2017</td>\n",
       "      <td>1</td>\n",
       "      <td>1</td>\n",
       "      <td>0</td>\n",
       "    </tr>\n",
       "    <tr>\n",
       "      <th>2</th>\n",
       "      <td>Belgium</td>\n",
       "      <td>KaggleMart</td>\n",
       "      <td>Kaggle Recipe Book</td>\n",
       "      <td>2017</td>\n",
       "      <td>1</td>\n",
       "      <td>1</td>\n",
       "      <td>0</td>\n",
       "    </tr>\n",
       "    <tr>\n",
       "      <th>3</th>\n",
       "      <td>Belgium</td>\n",
       "      <td>KaggleMart</td>\n",
       "      <td>Kaggle for Kids: One Smart Goose</td>\n",
       "      <td>2017</td>\n",
       "      <td>1</td>\n",
       "      <td>1</td>\n",
       "      <td>0</td>\n",
       "    </tr>\n",
       "    <tr>\n",
       "      <th>4</th>\n",
       "      <td>Belgium</td>\n",
       "      <td>KaggleRama</td>\n",
       "      <td>Kaggle Advanced Techniques</td>\n",
       "      <td>2017</td>\n",
       "      <td>1</td>\n",
       "      <td>1</td>\n",
       "      <td>0</td>\n",
       "    </tr>\n",
       "  </tbody>\n",
       "</table>\n",
       "</div>"
      ],
      "text/plain": [
       "        country       store                           product  year  month  \\\n",
       "row_id                                                                       \n",
       "0       Belgium  KaggleMart        Kaggle Advanced Techniques  2017      1   \n",
       "1       Belgium  KaggleMart            Kaggle Getting Started  2017      1   \n",
       "2       Belgium  KaggleMart                Kaggle Recipe Book  2017      1   \n",
       "3       Belgium  KaggleMart  Kaggle for Kids: One Smart Goose  2017      1   \n",
       "4       Belgium  KaggleRama        Kaggle Advanced Techniques  2017      1   \n",
       "\n",
       "        day  season  \n",
       "row_id               \n",
       "0         1       0  \n",
       "1         1       0  \n",
       "2         1       0  \n",
       "3         1       0  \n",
       "4         1       0  "
      ]
     },
     "execution_count": 12,
     "metadata": {},
     "output_type": "execute_result"
    }
   ],
   "source": [
    "# create new feature 'season'\n",
    "def get_season(month):\n",
    "    '''\n",
    "        return 0 for months 1-3,\n",
    "            1 for months 4-6,\n",
    "            2 for months 7-9,\n",
    "            3 otherwise\n",
    "    '''\n",
    "    m = month\n",
    "    if m in [1, 2, 3]: return 0\n",
    "    elif m in [4, 5, 6]: return 1\n",
    "    elif m in [7, 8, 9]: return 2\n",
    "    else: return 3\n",
    "train_test_X['season'] = train_test_X['month'].apply(get_season)\n",
    "train_test_X.head()"
   ]
  },
  {
   "cell_type": "code",
   "execution_count": 13,
   "id": "weird-praise",
   "metadata": {},
   "outputs": [
    {
     "data": {
      "text/plain": [
       "3    22080\n",
       "2    22080\n",
       "1    21840\n",
       "0    21648\n",
       "Name: season, dtype: int64"
      ]
     },
     "execution_count": 13,
     "metadata": {},
     "output_type": "execute_result"
    }
   ],
   "source": [
    "train_test_X['season'].value_counts()"
   ]
  },
  {
   "cell_type": "markdown",
   "id": "posted-assist",
   "metadata": {},
   "source": [
    "#### Country Feature"
   ]
  },
  {
   "cell_type": "code",
   "execution_count": 14,
   "id": "municipal-alignment",
   "metadata": {},
   "outputs": [
    {
     "data": {
      "text/plain": [
       "Poland     14608\n",
       "Germany    14608\n",
       "Italy      14608\n",
       "France     14608\n",
       "Belgium    14608\n",
       "Spain      14608\n",
       "Name: country, dtype: int64"
      ]
     },
     "execution_count": 14,
     "metadata": {},
     "output_type": "execute_result"
    }
   ],
   "source": [
    "train_test_X['country'].value_counts()"
   ]
  },
  {
   "cell_type": "markdown",
   "id": "favorite-hurricane",
   "metadata": {},
   "source": [
    "#### Store Feature"
   ]
  },
  {
   "cell_type": "code",
   "execution_count": 15,
   "id": "compressed-salon",
   "metadata": {},
   "outputs": [
    {
     "data": {
      "text/plain": [
       "KaggleMart    43824\n",
       "KaggleRama    43824\n",
       "Name: store, dtype: int64"
      ]
     },
     "execution_count": 15,
     "metadata": {},
     "output_type": "execute_result"
    }
   ],
   "source": [
    "train_test_X['store'].value_counts()"
   ]
  },
  {
   "cell_type": "markdown",
   "id": "chubby-volleyball",
   "metadata": {},
   "source": [
    "#### Product Feature"
   ]
  },
  {
   "cell_type": "code",
   "execution_count": 16,
   "id": "fleet-hardware",
   "metadata": {},
   "outputs": [
    {
     "data": {
      "text/plain": [
       "Kaggle Recipe Book                  21912\n",
       "Kaggle for Kids: One Smart Goose    21912\n",
       "Kaggle Advanced Techniques          21912\n",
       "Kaggle Getting Started              21912\n",
       "Name: product, dtype: int64"
      ]
     },
     "execution_count": 16,
     "metadata": {},
     "output_type": "execute_result"
    }
   ],
   "source": [
    "train_test_X['product'].value_counts()"
   ]
  },
  {
   "cell_type": "code",
   "execution_count": 17,
   "id": "welsh-amplifier",
   "metadata": {},
   "outputs": [
    {
     "data": {
      "text/plain": [
       "(70128, 8)"
      ]
     },
     "execution_count": 17,
     "metadata": {},
     "output_type": "execute_result"
    }
   ],
   "source": [
    "# create a train df for visualization and EDA\n",
    "train_df = train_test_X.iloc[:train_y.shape[0], :]\n",
    "# add num_sold\n",
    "train_df = train_df.join(train_y)\n",
    "train_df.shape"
   ]
  },
  {
   "cell_type": "markdown",
   "id": "liable-surrey",
   "metadata": {},
   "source": [
    "## EDA (Explanatory Data Analysis)"
   ]
  },
  {
   "cell_type": "code",
   "execution_count": 18,
   "id": "about-knife",
   "metadata": {},
   "outputs": [
    {
     "data": {
      "text/plain": [
       "year        0.100914\n",
       "month       0.001004\n",
       "day         0.007803\n",
       "season     -0.001857\n",
       "num_sold    1.000000\n",
       "Name: num_sold, dtype: float64"
      ]
     },
     "execution_count": 18,
     "metadata": {},
     "output_type": "execute_result"
    }
   ],
   "source": [
    "train_df.corr()['num_sold']"
   ]
  },
  {
   "cell_type": "markdown",
   "id": "removed-sarah",
   "metadata": {},
   "source": [
    "##### Get the number of stores in different countries"
   ]
  },
  {
   "cell_type": "code",
   "execution_count": 19,
   "id": "willing-imperial",
   "metadata": {},
   "outputs": [
    {
     "data": {
      "text/html": [
       "<div>\n",
       "<style scoped>\n",
       "    .dataframe tbody tr th:only-of-type {\n",
       "        vertical-align: middle;\n",
       "    }\n",
       "\n",
       "    .dataframe tbody tr th {\n",
       "        vertical-align: top;\n",
       "    }\n",
       "\n",
       "    .dataframe thead th {\n",
       "        text-align: right;\n",
       "    }\n",
       "</style>\n",
       "<table border=\"1\" class=\"dataframe\">\n",
       "  <thead>\n",
       "    <tr style=\"text-align: right;\">\n",
       "      <th>store</th>\n",
       "      <th>KaggleMart</th>\n",
       "      <th>KaggleRama</th>\n",
       "    </tr>\n",
       "    <tr>\n",
       "      <th>country</th>\n",
       "      <th></th>\n",
       "      <th></th>\n",
       "    </tr>\n",
       "  </thead>\n",
       "  <tbody>\n",
       "    <tr>\n",
       "      <th>Belgium</th>\n",
       "      <td>5844</td>\n",
       "      <td>5844</td>\n",
       "    </tr>\n",
       "    <tr>\n",
       "      <th>France</th>\n",
       "      <td>5844</td>\n",
       "      <td>5844</td>\n",
       "    </tr>\n",
       "    <tr>\n",
       "      <th>Germany</th>\n",
       "      <td>5844</td>\n",
       "      <td>5844</td>\n",
       "    </tr>\n",
       "    <tr>\n",
       "      <th>Italy</th>\n",
       "      <td>5844</td>\n",
       "      <td>5844</td>\n",
       "    </tr>\n",
       "    <tr>\n",
       "      <th>Poland</th>\n",
       "      <td>5844</td>\n",
       "      <td>5844</td>\n",
       "    </tr>\n",
       "    <tr>\n",
       "      <th>Spain</th>\n",
       "      <td>5844</td>\n",
       "      <td>5844</td>\n",
       "    </tr>\n",
       "  </tbody>\n",
       "</table>\n",
       "</div>"
      ],
      "text/plain": [
       "store    KaggleMart  KaggleRama\n",
       "country                        \n",
       "Belgium        5844        5844\n",
       "France         5844        5844\n",
       "Germany        5844        5844\n",
       "Italy          5844        5844\n",
       "Poland         5844        5844\n",
       "Spain          5844        5844"
      ]
     },
     "execution_count": 19,
     "metadata": {},
     "output_type": "execute_result"
    }
   ],
   "source": [
    "pd.crosstab(\n",
    "    index=train_df['country'],\n",
    "    columns=train_df['store']\n",
    ")"
   ]
  },
  {
   "cell_type": "markdown",
   "id": "conditional-complaint",
   "metadata": {},
   "source": [
    "##### The number of items sold in each year"
   ]
  },
  {
   "cell_type": "code",
   "execution_count": 20,
   "id": "professional-zambia",
   "metadata": {},
   "outputs": [
    {
     "data": {
      "text/plain": [
       "year\n",
       "2017    3112163\n",
       "2018    3425424\n",
       "2019    3232879\n",
       "2020    3855193\n",
       "Name: num_sold, dtype: int64"
      ]
     },
     "execution_count": 20,
     "metadata": {},
     "output_type": "execute_result"
    }
   ],
   "source": [
    "num_sold_year = train_df.groupby('year')['num_sold'].sum()\n",
    "num_sold_year"
   ]
  },
  {
   "cell_type": "code",
   "execution_count": 21,
   "id": "smooth-interim",
   "metadata": {},
   "outputs": [
    {
     "data": {
      "text/plain": [
       "Text(0.5, 1.0, 'The The number of items sold in each year')"
      ]
     },
     "execution_count": 21,
     "metadata": {},
     "output_type": "execute_result"
    },
    {
     "data": {
      "image/png": "[encoded data removed]",
      "text/plain": [
       "<Figure size 504x360 with 1 Axes>"
      ]
     },
     "metadata": {
      "needs_background": "light"
     },
     "output_type": "display_data"
    }
   ],
   "source": [
    "plt.figure(figsize=(7, 5))\n",
    "sns.set_palette('spring')\n",
    "ax = sns.barplot(x=num_sold_year.index, y=num_sold_year)\n",
    "ax.set_title('The The number of items sold in each year', fontdict={'fontsize':18})"
   ]
  },
  {
   "cell_type": "markdown",
   "id": "sunset-conversation",
   "metadata": {},
   "source": [
    "Total number of items sold in **2020** is the highest"
   ]
  },
  {
   "cell_type": "markdown",
   "id": "placed-fitting",
   "metadata": {},
   "source": [
    "##### The number of items sold in each month"
   ]
  },
  {
   "cell_type": "code",
   "execution_count": 22,
   "id": "early-crown",
   "metadata": {},
   "outputs": [
    {
     "data": {
      "text/plain": [
       "month\n",
       "1     1244928\n",
       "2     1086253\n",
       "3     1147079\n",
       "4     1076549\n",
       "5     1142837\n",
       "6     1088330\n",
       "7     1109652\n",
       "8     1115626\n",
       "9     1064882\n",
       "10    1119781\n",
       "11    1130230\n",
       "12    1299512\n",
       "Name: num_sold, dtype: int64"
      ]
     },
     "execution_count": 22,
     "metadata": {},
     "output_type": "execute_result"
    }
   ],
   "source": [
    "num_sold_month = train_df.groupby('month')['num_sold'].sum()\n",
    "num_sold_month"
   ]
  },
  {
   "cell_type": "code",
   "execution_count": 23,
   "id": "dynamic-georgia",
   "metadata": {},
   "outputs": [
    {
     "data": {
      "text/plain": [
       "Text(0.5, 1.0, 'The The number of items sold in each month')"
      ]
     },
     "execution_count": 23,
     "metadata": {},
     "output_type": "execute_result"
    },
    {
     "data": {
      "image/png": "[encoded data removed]",
      "text/plain": [
       "<Figure size 720x432 with 1 Axes>"
      ]
     },
     "metadata": {
      "needs_background": "light"
     },
     "output_type": "display_data"
    }
   ],
   "source": [
    "plt.figure(figsize=(10, 6))\n",
    "ax = sns.barplot(x=num_sold_month.index, y=num_sold_month)\n",
    "ax.set_title('The The number of items sold in each month', fontdict={'fontsize':18})"
   ]
  },
  {
   "cell_type": "markdown",
   "id": "generic-fifty",
   "metadata": {},
   "source": [
    "Total numbers of items sold in **January** and **December** are the highest"
   ]
  },
  {
   "cell_type": "markdown",
   "id": "figured-research",
   "metadata": {},
   "source": [
    "##### The number of items sold in each season"
   ]
  },
  {
   "cell_type": "code",
   "execution_count": 24,
   "id": "enormous-worship",
   "metadata": {},
   "outputs": [
    {
     "data": {
      "text/plain": [
       "season\n",
       "0    3478260\n",
       "1    3307716\n",
       "2    3290160\n",
       "3    3549523\n",
       "Name: num_sold, dtype: int64"
      ]
     },
     "execution_count": 24,
     "metadata": {},
     "output_type": "execute_result"
    }
   ],
   "source": [
    "num_sold_season = train_df.groupby('season')['num_sold'].sum()\n",
    "num_sold_season"
   ]
  },
  {
   "cell_type": "code",
   "execution_count": 25,
   "id": "fabulous-genetics",
   "metadata": {},
   "outputs": [
    {
     "data": {
      "text/plain": [
       "Text(0.5, 1.0, 'The The number of items sold in each season')"
      ]
     },
     "execution_count": 25,
     "metadata": {},
     "output_type": "execute_result"
    },
    {
     "data": {
      "image/png": "[encoded data removed]",
      "text/plain": [
       "<Figure size 504x360 with 1 Axes>"
      ]
     },
     "metadata": {
      "needs_background": "light"
     },
     "output_type": "display_data"
    }
   ],
   "source": [
    "plt.figure(figsize=(7, 5))\n",
    "ax = sns.barplot(x=num_sold_season.index, y=num_sold_season)\n",
    "ax.set_title('The The number of items sold in each season', fontdict={'fontsize':18})"
   ]
  },
  {
   "cell_type": "markdown",
   "id": "marine-convenience",
   "metadata": {},
   "source": [
    "##### The number of items sold in each country"
   ]
  },
  {
   "cell_type": "code",
   "execution_count": 26,
   "id": "established-central",
   "metadata": {},
   "outputs": [
    {
     "data": {
      "text/plain": [
       "country\n",
       "Germany    2786415\n",
       "Belgium    2781050\n",
       "France     2512319\n",
       "Italy      2201092\n",
       "Spain      2003238\n",
       "Poland     1341545\n",
       "Name: num_sold, dtype: int64"
      ]
     },
     "execution_count": 26,
     "metadata": {},
     "output_type": "execute_result"
    }
   ],
   "source": [
    "num_sold_country = train_df.groupby('country')['num_sold'].sum()\n",
    "num_sold_country.sort_values(ascending=False)"
   ]
  },
  {
   "cell_type": "code",
   "execution_count": 27,
   "id": "graduate-internship",
   "metadata": {},
   "outputs": [
    {
     "data": {
      "text/plain": [
       "Text(0.5, 1.0, 'The The number of items sold in each country')"
      ]
     },
     "execution_count": 27,
     "metadata": {},
     "output_type": "execute_result"
    },
    {
     "data": {
      "image/png": "[encoded data removed]",
      "text/plain": [
       "<Figure size 576x360 with 1 Axes>"
      ]
     },
     "metadata": {
      "needs_background": "light"
     },
     "output_type": "display_data"
    }
   ],
   "source": [
    "plt.figure(figsize=(8, 5))\n",
    "ax = sns.barplot(x=num_sold_country.sort_values().index, y=num_sold_country.sort_values())\n",
    "ax.set_title('The The number of items sold in each country', fontdict={'fontsize':18})"
   ]
  },
  {
   "cell_type": "markdown",
   "id": "integrated-brazil",
   "metadata": {},
   "source": [
    "Total numbers of items sold in **Germany** and **Belgium** are the highest"
   ]
  },
  {
   "cell_type": "markdown",
   "id": "initial-trademark",
   "metadata": {},
   "source": [
    "##### The number of items sold in each store"
   ]
  },
  {
   "cell_type": "code",
   "execution_count": 28,
   "id": "convinced-singing",
   "metadata": {},
   "outputs": [
    {
     "data": {
      "text/plain": [
       "store\n",
       "KaggleMart    10117254\n",
       "KaggleRama     3508405\n",
       "Name: num_sold, dtype: int64"
      ]
     },
     "execution_count": 28,
     "metadata": {},
     "output_type": "execute_result"
    }
   ],
   "source": [
    "num_sold_store = train_df.groupby('store')['num_sold'].sum()\n",
    "num_sold_store"
   ]
  },
  {
   "cell_type": "code",
   "execution_count": 29,
   "id": "considerable-eight",
   "metadata": {},
   "outputs": [
    {
     "data": {
      "text/plain": [
       "Text(0.5, 1.0, 'The The number of items sold in each store')"
      ]
     },
     "execution_count": 29,
     "metadata": {},
     "output_type": "execute_result"
    },
    {
     "data": {
      "image/png": "[encoded data removed]",
      "text/plain": [
       "<Figure size 504x360 with 1 Axes>"
      ]
     },
     "metadata": {
      "needs_background": "light"
     },
     "output_type": "display_data"
    }
   ],
   "source": [
    "plt.figure(figsize=(7, 5))\n",
    "ax = sns.barplot(x=num_sold_store.sort_values().index, y=num_sold_store.sort_values())\n",
    "ax.set_title('The The number of items sold in each store', fontdict={'fontsize':18})"
   ]
  },
  {
   "cell_type": "markdown",
   "id": "coordinated-summit",
   "metadata": {},
   "source": [
    "Total number of items sold in **KaggleMart** stores is higher than that of **KaggleRama**"
   ]
  },
  {
   "cell_type": "markdown",
   "id": "resistant-skill",
   "metadata": {},
   "source": [
    "##### The number of items sold from each product"
   ]
  },
  {
   "cell_type": "code",
   "execution_count": 30,
   "id": "flying-mandate",
   "metadata": {},
   "outputs": [
    {
     "data": {
      "text/plain": [
       "product\n",
       "Kaggle Advanced Techniques          3913910\n",
       "Kaggle Getting Started              3136903\n",
       "Kaggle Recipe Book                  2349817\n",
       "Kaggle for Kids: One Smart Goose    4225029\n",
       "Name: num_sold, dtype: int64"
      ]
     },
     "execution_count": 30,
     "metadata": {},
     "output_type": "execute_result"
    }
   ],
   "source": [
    "num_sold_product = train_df.groupby('product')['num_sold'].sum()\n",
    "num_sold_product"
   ]
  },
  {
   "cell_type": "code",
   "execution_count": 31,
   "id": "senior-testing",
   "metadata": {},
   "outputs": [
    {
     "data": {
      "text/plain": [
       "Text(0.5, 1.0, 'The number of items sold from each product')"
      ]
     },
     "execution_count": 31,
     "metadata": {},
     "output_type": "execute_result"
    },
    {
     "data": {
      "image/png": "[encoded data removed]",
      "text/plain": [
       "<Figure size 504x360 with 1 Axes>"
      ]
     },
     "metadata": {
      "needs_background": "light"
     },
     "output_type": "display_data"
    }
   ],
   "source": [
    "plt.figure(figsize=(7, 5))\n",
    "ax = sns.barplot(y=num_sold_product.sort_values().index, x=num_sold_product.sort_values())\n",
    "ax.set_title('The number of items sold from each product', fontdict={'fontsize':18})"
   ]
  },
  {
   "cell_type": "markdown",
   "id": "central-occupation",
   "metadata": {},
   "source": [
    "### Number of items sold VS country, season, year, month"
   ]
  },
  {
   "cell_type": "code",
   "execution_count": 32,
   "id": "administrative-african",
   "metadata": {},
   "outputs": [
    {
     "data": {
      "text/plain": [
       "Text(0.5, 1.0, 'Month VS Num_sold')"
      ]
     },
     "execution_count": 32,
     "metadata": {},
     "output_type": "execute_result"
    },
    {
     "data": {
      "image/png": "[encoded data removed]",
      "text/plain": [
       "<Figure size 1008x864 with 4 Axes>"
      ]
     },
     "metadata": {
      "needs_background": "light"
     },
     "output_type": "display_data"
    }
   ],
   "source": [
    "plt.figure(figsize=(14, 12))\n",
    "sns.set_palette('autumn')\n",
    "plt.subplot(2,2,1)\n",
    "ax = sns.violinplot(data=train_df, x='country', y='num_sold')\n",
    "ax.set_title('Country VS Num_sold', fontdict={'fontsize': 16})\n",
    "\n",
    "plt.subplot(2,2,2)\n",
    "ax = sns.violinplot(data=train_df, x='season', y='num_sold')\n",
    "ax.set_title('Season VS Num_sold', fontdict={'fontsize': 16})\n",
    "\n",
    "plt.subplot(2,2,3)\n",
    "ax = sns.violinplot(data=train_df, x='year', y='num_sold')\n",
    "ax.set_title('Year VS Num_sold', fontdict={'fontsize': 16})\n",
    "\n",
    "plt.subplot(2,2,4)\n",
    "ax = sns.violinplot(data=train_df, x='month', y='num_sold')\n",
    "ax.set_title('Month VS Num_sold', fontdict={'fontsize': 16})"
   ]
  },
  {
   "cell_type": "markdown",
   "id": "portuguese-semester",
   "metadata": {},
   "source": [
    "## Get it ready for modeling"
   ]
  },
  {
   "cell_type": "code",
   "execution_count": 33,
   "id": "cardiovascular-spanking",
   "metadata": {},
   "outputs": [
    {
     "data": {
      "text/html": [
       "<div>\n",
       "<style scoped>\n",
       "    .dataframe tbody tr th:only-of-type {\n",
       "        vertical-align: middle;\n",
       "    }\n",
       "\n",
       "    .dataframe tbody tr th {\n",
       "        vertical-align: top;\n",
       "    }\n",
       "\n",
       "    .dataframe thead th {\n",
       "        text-align: right;\n",
       "    }\n",
       "</style>\n",
       "<table border=\"1\" class=\"dataframe\">\n",
       "  <thead>\n",
       "    <tr style=\"text-align: right;\">\n",
       "      <th></th>\n",
       "      <th>country</th>\n",
       "      <th>store</th>\n",
       "      <th>product</th>\n",
       "      <th>year</th>\n",
       "      <th>month</th>\n",
       "      <th>day</th>\n",
       "      <th>season</th>\n",
       "    </tr>\n",
       "    <tr>\n",
       "      <th>row_id</th>\n",
       "      <th></th>\n",
       "      <th></th>\n",
       "      <th></th>\n",
       "      <th></th>\n",
       "      <th></th>\n",
       "      <th></th>\n",
       "      <th></th>\n",
       "    </tr>\n",
       "  </thead>\n",
       "  <tbody>\n",
       "    <tr>\n",
       "      <th>0</th>\n",
       "      <td>Belgium</td>\n",
       "      <td>KaggleMart</td>\n",
       "      <td>Kaggle Advanced Techniques</td>\n",
       "      <td>2017</td>\n",
       "      <td>1</td>\n",
       "      <td>1</td>\n",
       "      <td>0</td>\n",
       "    </tr>\n",
       "    <tr>\n",
       "      <th>1</th>\n",
       "      <td>Belgium</td>\n",
       "      <td>KaggleMart</td>\n",
       "      <td>Kaggle Getting Started</td>\n",
       "      <td>2017</td>\n",
       "      <td>1</td>\n",
       "      <td>1</td>\n",
       "      <td>0</td>\n",
       "    </tr>\n",
       "    <tr>\n",
       "      <th>2</th>\n",
       "      <td>Belgium</td>\n",
       "      <td>KaggleMart</td>\n",
       "      <td>Kaggle Recipe Book</td>\n",
       "      <td>2017</td>\n",
       "      <td>1</td>\n",
       "      <td>1</td>\n",
       "      <td>0</td>\n",
       "    </tr>\n",
       "    <tr>\n",
       "      <th>3</th>\n",
       "      <td>Belgium</td>\n",
       "      <td>KaggleMart</td>\n",
       "      <td>Kaggle for Kids: One Smart Goose</td>\n",
       "      <td>2017</td>\n",
       "      <td>1</td>\n",
       "      <td>1</td>\n",
       "      <td>0</td>\n",
       "    </tr>\n",
       "    <tr>\n",
       "      <th>4</th>\n",
       "      <td>Belgium</td>\n",
       "      <td>KaggleRama</td>\n",
       "      <td>Kaggle Advanced Techniques</td>\n",
       "      <td>2017</td>\n",
       "      <td>1</td>\n",
       "      <td>1</td>\n",
       "      <td>0</td>\n",
       "    </tr>\n",
       "  </tbody>\n",
       "</table>\n",
       "</div>"
      ],
      "text/plain": [
       "        country       store                           product  year  month  \\\n",
       "row_id                                                                       \n",
       "0       Belgium  KaggleMart        Kaggle Advanced Techniques  2017      1   \n",
       "1       Belgium  KaggleMart            Kaggle Getting Started  2017      1   \n",
       "2       Belgium  KaggleMart                Kaggle Recipe Book  2017      1   \n",
       "3       Belgium  KaggleMart  Kaggle for Kids: One Smart Goose  2017      1   \n",
       "4       Belgium  KaggleRama        Kaggle Advanced Techniques  2017      1   \n",
       "\n",
       "        day  season  \n",
       "row_id               \n",
       "0         1       0  \n",
       "1         1       0  \n",
       "2         1       0  \n",
       "3         1       0  \n",
       "4         1       0  "
      ]
     },
     "execution_count": 33,
     "metadata": {},
     "output_type": "execute_result"
    }
   ],
   "source": [
    "train_test_X.head()"
   ]
  },
  {
   "cell_type": "code",
   "execution_count": 34,
   "id": "solar-default",
   "metadata": {},
   "outputs": [],
   "source": [
    "# Encode categorical variables into numbers\n",
    "for i in train_test_X.select_dtypes('object').columns:\n",
    "    train_test_X[i], _ = train_test_X[i].factorize()"
   ]
  },
  {
   "cell_type": "code",
   "execution_count": 35,
   "id": "loose-merchandise",
   "metadata": {},
   "outputs": [
    {
     "data": {
      "text/plain": [
       "country    int64\n",
       "store      int64\n",
       "product    int64\n",
       "year       int32\n",
       "month      int32\n",
       "day        int32\n",
       "season     int64\n",
       "dtype: object"
      ]
     },
     "execution_count": 35,
     "metadata": {},
     "output_type": "execute_result"
    }
   ],
   "source": [
    "train_test_X.dtypes"
   ]
  },
  {
   "cell_type": "markdown",
   "id": "straight-encoding",
   "metadata": {},
   "source": [
    "All of the features are of data type 'int'"
   ]
  },
  {
   "cell_type": "code",
   "execution_count": 36,
   "id": "breathing-exception",
   "metadata": {},
   "outputs": [
    {
     "data": {
      "text/plain": [
       "(70128, 7)"
      ]
     },
     "execution_count": 36,
     "metadata": {},
     "output_type": "execute_result"
    }
   ],
   "source": [
    "# seperate back the train and test datasets. (we formerly concatenated them)\n",
    "train_df_X = train_test_X.iloc[:train_y.shape[0], :]\n",
    "test_df = train_test_X.iloc[train_y.shape[0]:, :]\n",
    "train_df_X.shape\n",
    "# if confused, please see cell bellow"
   ]
  },
  {
   "cell_type": "code",
   "execution_count": 37,
   "id": "fatal-table",
   "metadata": {},
   "outputs": [],
   "source": [
    "X = train_df_X.copy()\n",
    "y = train_y\n",
    "test_df = test_df"
   ]
  },
  {
   "cell_type": "markdown",
   "id": "collected-poison",
   "metadata": {},
   "source": [
    "## Train and Test the Model"
   ]
  },
  {
   "cell_type": "code",
   "execution_count": 38,
   "id": "equivalent-dynamics",
   "metadata": {},
   "outputs": [],
   "source": [
    "# df2.drop(df2[df2['num_sold'] >= 600].index, axis=0, inplace=True)\n",
    "# df2.drop(['season'], axis=1, inplace=True)"
   ]
  },
  {
   "cell_type": "code",
   "execution_count": 39,
   "id": "patent-multimedia",
   "metadata": {},
   "outputs": [],
   "source": [
    "from sklearn.model_selection import train_test_split\n",
    "X_train, X_test, y_train, y_test = train_test_split(X, y, test_size=1/3, random_state=10)"
   ]
  },
  {
   "cell_type": "code",
   "execution_count": 40,
   "id": "known-elder",
   "metadata": {},
   "outputs": [
    {
     "data": {
      "text/plain": [
       "(46752, 7)"
      ]
     },
     "execution_count": 40,
     "metadata": {},
     "output_type": "execute_result"
    }
   ],
   "source": [
    "X_train.shape"
   ]
  },
  {
   "cell_type": "code",
   "execution_count": 41,
   "id": "worth-greene",
   "metadata": {},
   "outputs": [
    {
     "data": {
      "text/plain": [
       "ExtraTreesRegressor(random_state=10)"
      ]
     },
     "execution_count": 41,
     "metadata": {},
     "output_type": "execute_result"
    }
   ],
   "source": [
    "from sklearn.ensemble import ExtraTreesRegressor\n",
    "model = ExtraTreesRegressor(random_state=10)\n",
    "model.fit(X_train, y_train)"
   ]
  },
  {
   "cell_type": "code",
   "execution_count": 42,
   "id": "binding-arrangement",
   "metadata": {},
   "outputs": [],
   "source": [
    "y_pred = model.predict(X_test)\n",
    "y_pred = np.array(y_pred, dtype='int')"
   ]
  },
  {
   "cell_type": "code",
   "execution_count": 43,
   "id": "furnished-minute",
   "metadata": {},
   "outputs": [
    {
     "name": "stdout",
     "output_type": "stream",
     "text": [
      "RMSE:  22.989572599834613\n",
      "Mean absolute error:  14.958333333333334\n"
     ]
    }
   ],
   "source": [
    "# check accuracy\n",
    "from sklearn.metrics import mean_squared_error, mean_absolute_error\n",
    "rmse = mean_squared_error(y_test, y_pred, squared=False)\n",
    "m_abs_e = mean_absolute_error(y_test, y_pred)\n",
    "print(\"RMSE: \", rmse)\n",
    "print('Mean absolute error: ', m_abs_e)"
   ]
  },
  {
   "cell_type": "code",
   "execution_count": 44,
   "id": "stupid-script",
   "metadata": {},
   "outputs": [
    {
     "name": "stdout",
     "output_type": "stream",
     "text": [
      "sMAPE:  7.626231751570862\n"
     ]
    }
   ],
   "source": [
    "# Smape\n",
    "def smape(A, F):\n",
    "    tmp = 2 * np.abs(F - A) / (np.abs(A) + np.abs(F))\n",
    "    len_ = np.count_nonzero(~np.isnan(tmp))\n",
    "    if len_ == 0 and np.nansum(tmp) == 0: # Deals with a special case\n",
    "        return 100\n",
    "    return 100 / len_ * np.nansum(tmp)\n",
    "smape_ = smape(y_test, y_pred)\n",
    "print('sMAPE: ', smape_)\n"
   ]
  },
  {
   "cell_type": "markdown",
   "id": "indie-lloyd",
   "metadata": {},
   "source": [
    "## Submition"
   ]
  },
  {
   "cell_type": "code",
   "execution_count": 45,
   "id": "amateur-newport",
   "metadata": {},
   "outputs": [
    {
     "data": {
      "text/plain": [
       "ExtraTreesRegressor(random_state=10)"
      ]
     },
     "execution_count": 45,
     "metadata": {},
     "output_type": "execute_result"
    }
   ],
   "source": [
    "# train the model with entire train dataset\n",
    "from sklearn.ensemble import ExtraTreesRegressor\n",
    "model = ExtraTreesRegressor(random_state=10)\n",
    "model.fit(X, y)"
   ]
  },
  {
   "cell_type": "code",
   "execution_count": 46,
   "id": "technological-newark",
   "metadata": {},
   "outputs": [],
   "source": [
    "# predict\n",
    "result = model.predict(test_df)"
   ]
  },
  {
   "cell_type": "code",
   "execution_count": 47,
   "id": "alpine-humanity",
   "metadata": {},
   "outputs": [],
   "source": [
    "dct = {\n",
    "    'row_id': test_df.index,\n",
    "    'num_sold': result\n",
    "}\n",
    "submission = pd.DataFrame(dct)"
   ]
  },
  {
   "cell_type": "code",
   "execution_count": 48,
   "id": "indoor-timber",
   "metadata": {},
   "outputs": [
    {
     "name": "stdout",
     "output_type": "stream",
     "text": [
      "DONE:)\n"
     ]
    }
   ],
   "source": [
    "submission.to_csv('submission.csv', index=False)\n",
    "print('DONE:)')"
   ]
  },
  {
   "cell_type": "markdown",
   "id": "imperial-quebec",
   "metadata": {},
   "source": [
    "# Thank you"
   ]
  },
  {
   "cell_type": "code",
   "execution_count": null,
   "id": "marked-depression",
   "metadata": {},
   "outputs": [],
   "source": []
  }
 ],
 "metadata": {
  "kernelspec": {
   "display_name": "Python 3",
   "language": "python",
   "name": "python3"
  },
  "language_info": {
   "codemirror_mode": {
    "name": "ipython",
    "version": 3
   },
   "file_extension": ".py",
   "mimetype": "text/x-python",
   "name": "python",
   "nbconvert_exporter": "python",
   "pygments_lexer": "ipython3",
   "version": "3.8.3"
  }
 },
 "nbformat": 4,
 "nbformat_minor": 5
}
